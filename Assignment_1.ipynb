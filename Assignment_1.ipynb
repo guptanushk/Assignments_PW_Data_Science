{
 "cells": [
  {
   "cell_type": "markdown",
   "id": "d8c8ae8f",
   "metadata": {},
   "source": [
    "# Q1. Explain with an example each when to use a for loop and a while loop."
   ]
  },
  {
   "cell_type": "code",
   "execution_count": 1,
   "id": "04729ed9",
   "metadata": {},
   "outputs": [
    {
     "name": "stdout",
     "output_type": "stream",
     "text": [
      "0\n",
      "1\n",
      "2\n",
      "3\n",
      "4\n",
      "5\n",
      "6\n",
      "7\n",
      "8\n",
      "9\n"
     ]
    }
   ],
   "source": [
    "#For loop is use where you know how many times you want to execute the loop\n",
    "for i in range (0,10):\n",
    "    print (i)"
   ]
  },
  {
   "cell_type": "code",
   "execution_count": 4,
   "id": "307c0868",
   "metadata": {},
   "outputs": [
    {
     "name": "stdout",
     "output_type": "stream",
     "text": [
      "0\n",
      "1\n",
      "2\n",
      "3\n",
      "4\n",
      "5\n",
      "6\n",
      "7\n",
      "8\n",
      "9\n"
     ]
    }
   ],
   "source": [
    "#While loop is use where you want to execute a loop until certain condition is met.\n",
    "l = list(range(0,10))\n",
    "i = 0\n",
    "while i < 10:\n",
    "    print(l[i])\n",
    "    i += 1"
   ]
  },
  {
   "cell_type": "markdown",
   "id": "c37838bb",
   "metadata": {},
   "source": [
    "# Q2. Write a python program to print the sum and product of the first 10 natural numbers using for and while loop."
   ]
  },
  {
   "cell_type": "code",
   "execution_count": 10,
   "id": "7dcc705d",
   "metadata": {},
   "outputs": [
    {
     "data": {
      "text/plain": [
       "[1, 2, 3, 4, 5, 6, 7, 8, 9, 10]"
      ]
     },
     "execution_count": 10,
     "metadata": {},
     "output_type": "execute_result"
    }
   ],
   "source": [
    "#List of natural number\n",
    "l1=list(range(1,11))\n",
    "l1"
   ]
  },
  {
   "cell_type": "code",
   "execution_count": 8,
   "id": "d0af6d24",
   "metadata": {},
   "outputs": [
    {
     "name": "stdout",
     "output_type": "stream",
     "text": [
      "55\n"
     ]
    }
   ],
   "source": [
    "## for loop\n",
    "\n",
    "#Sum\n",
    "total = 0\n",
    "for i in l1:\n",
    "    total = total + i\n",
    "print(total)"
   ]
  },
  {
   "cell_type": "code",
   "execution_count": 9,
   "id": "3c2cd8a3",
   "metadata": {},
   "outputs": [
    {
     "name": "stdout",
     "output_type": "stream",
     "text": [
      "3628800\n"
     ]
    }
   ],
   "source": [
    "#Product\n",
    "product = None\n",
    "for i in l1:\n",
    "    if product is None:\n",
    "        product = i\n",
    "    else:\n",
    "        product = product * i\n",
    "print(product)"
   ]
  },
  {
   "cell_type": "code",
   "execution_count": 13,
   "id": "f609f129",
   "metadata": {},
   "outputs": [
    {
     "name": "stdout",
     "output_type": "stream",
     "text": [
      "55\n"
     ]
    }
   ],
   "source": [
    "## While loop\n",
    "\n",
    "#Sum\n",
    "count = 0\n",
    "total2 = 0\n",
    "while count < 10:\n",
    "    total2 = total2 + l1[count]\n",
    "    count += 1\n",
    "print(total2)"
   ]
  },
  {
   "cell_type": "code",
   "execution_count": 14,
   "id": "b4867cc8",
   "metadata": {},
   "outputs": [
    {
     "name": "stdout",
     "output_type": "stream",
     "text": [
      "3628800\n"
     ]
    }
   ],
   "source": [
    "#Product\n",
    "count = 0\n",
    "product2 = None\n",
    "while count < 10:\n",
    "    if product2 is None:\n",
    "        product2 = l1[count]\n",
    "    else:\n",
    "        product2 = product2 * l1[count]\n",
    "    \n",
    "    count+=1\n",
    "print(product2)"
   ]
  },
  {
   "cell_type": "markdown",
   "id": "668dd380",
   "metadata": {},
   "source": [
    "# Q3. Create a python program to compute the electricity bill for a household.\n",
    "The per-unit charges in rupees are as follows: For the first 100 units, the user will be charged Rs. 4.5 per\n",
    "unit, for the next 100 units, the user will be charged Rs. 6 per unit, and for the next 100 units, the user will\n",
    "be charged Rs. 10 per unit, After 300 units and above the user will be charged Rs. 20 per unit."
   ]
  },
  {
   "cell_type": "code",
   "execution_count": 17,
   "id": "449391b6",
   "metadata": {},
   "outputs": [
    {
     "name": "stdout",
     "output_type": "stream",
     "text": [
      "Enter the unit: 310\n",
      "Your total cost will be 2250.0\n"
     ]
    }
   ],
   "source": [
    "unit = int(input('Enter the unit: '))\n",
    "if unit <= 100 :\n",
    "    charge = 4.5 * unit\n",
    "    \n",
    "elif unit > 100 and unit <= 200:\n",
    "    charge = (unit-100) * 6 + (100 * 4.5)\n",
    "    \n",
    "elif unit > 200 and unit <= 300:\n",
    "    charge = (unit-200) * 10 + (100 * 4.5) + (100 * 6)\n",
    "\n",
    "else:\n",
    "    charge = (unit-300) * 20 + (100 * 4.5) + (100 * 6) + (100 * 10)\n",
    "\n",
    "print(f'Your total cost will be {charge}')"
   ]
  },
  {
   "cell_type": "markdown",
   "id": "7250b951",
   "metadata": {},
   "source": [
    "# Q4. Create a list of numbers from 1 to 100. Use for loop and while loop to calculate the cube of each number and if the cube of that number is divisible by 4 or 5 then append that number in a list and print that list."
   ]
  },
  {
   "cell_type": "code",
   "execution_count": 21,
   "id": "1919622b",
   "metadata": {},
   "outputs": [],
   "source": [
    "l2= list(range(1,101))"
   ]
  },
  {
   "cell_type": "code",
   "execution_count": 23,
   "id": "54136539",
   "metadata": {},
   "outputs": [
    {
     "name": "stdout",
     "output_type": "stream",
     "text": [
      "[8, 64, 125, 216, 512, 1000, 1728, 2744, 3375, 4096, 5832, 8000, 10648, 13824, 15625, 17576, 21952, 27000, 32768, 39304, 42875, 46656, 54872, 64000, 74088, 85184, 91125, 97336, 110592, 125000, 140608, 157464, 166375, 175616, 195112, 216000, 238328, 262144, 274625, 287496, 314432, 343000, 373248, 405224, 421875, 438976, 474552, 512000, 551368, 592704, 614125, 636056, 681472, 729000, 778688, 830584, 857375, 884736, 941192, 1000000]\n"
     ]
    }
   ],
   "source": [
    "##For Loop\n",
    "\n",
    "l3_cube = []\n",
    "\n",
    "for i in l2:\n",
    "    cube = i**3\n",
    "    if cube%4 == 0 or cube%5 ==0 :\n",
    "        l3_cube.append(cube)\n",
    "print(l3_cube)"
   ]
  },
  {
   "cell_type": "code",
   "execution_count": 28,
   "id": "0b2e01d1",
   "metadata": {},
   "outputs": [
    {
     "name": "stdout",
     "output_type": "stream",
     "text": [
      "[8, 64, 125, 216, 512, 1000, 1728, 2744, 3375, 4096, 5832, 8000, 10648, 13824, 15625, 17576, 21952, 27000, 32768, 39304, 42875, 46656, 54872, 64000, 74088, 85184, 91125, 97336, 110592, 125000, 140608, 157464, 166375, 175616, 195112, 216000, 238328, 262144, 274625, 287496, 314432, 343000, 373248, 405224, 421875, 438976, 474552, 512000, 551368, 592704, 614125, 636056, 681472, 729000, 778688, 830584, 857375, 884736, 941192, 1000000]\n"
     ]
    }
   ],
   "source": [
    "#While Loop\n",
    "\n",
    "l4_cube = []\n",
    "i = 0\n",
    "while i < 100:\n",
    "    cube = l2[i]**3\n",
    "    \n",
    "    if cube%4 == 0 or cube%5 ==0 :\n",
    "        l4_cube.append(cube)\n",
    "    i+=1\n",
    "print(l4_cube)"
   ]
  },
  {
   "cell_type": "markdown",
   "id": "ba2553f9",
   "metadata": {},
   "source": [
    "# Q5. Write a program to filter count vowels in the below-given string.\n",
    "string = \"I want to become a data scientist\""
   ]
  },
  {
   "cell_type": "code",
   "execution_count": 30,
   "id": "8cc50639",
   "metadata": {},
   "outputs": [
    {
     "name": "stdout",
     "output_type": "stream",
     "text": [
      "12\n"
     ]
    }
   ],
   "source": [
    "string = \"I want to become a data scientist\"\n",
    "count = 0\n",
    "for i in string:\n",
    "    for vowels in 'aeiou':\n",
    "        if i.lower() == vowels:\n",
    "            count+=1\n",
    "print(count)"
   ]
  },
  {
   "cell_type": "code",
   "execution_count": null,
   "id": "ea1ff47d",
   "metadata": {},
   "outputs": [],
   "source": []
  }
 ],
 "metadata": {
  "kernelspec": {
   "display_name": "Python 3 (ipykernel)",
   "language": "python",
   "name": "python3"
  },
  "language_info": {
   "codemirror_mode": {
    "name": "ipython",
    "version": 3
   },
   "file_extension": ".py",
   "mimetype": "text/x-python",
   "name": "python",
   "nbconvert_exporter": "python",
   "pygments_lexer": "ipython3",
   "version": "3.11.2"
  }
 },
 "nbformat": 4,
 "nbformat_minor": 5
}
